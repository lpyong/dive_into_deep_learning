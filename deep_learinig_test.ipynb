{
 "metadata": {
  "language_info": {
   "codemirror_mode": {
    "name": "ipython",
    "version": 3
   },
   "file_extension": ".py",
   "mimetype": "text/x-python",
   "name": "python",
   "nbconvert_exporter": "python",
   "pygments_lexer": "ipython3",
   "version": "3.6.12-final"
  },
  "orig_nbformat": 2,
  "kernelspec": {
   "name": "python3",
   "display_name": "Python 3.6.12 64-bit ('gluon': conda)",
   "metadata": {
    "interpreter": {
     "hash": "ff1e23e0936b7ed9773e20af4412028dbcf86e20ac6ff7e144d4776d8198c6df"
    }
   }
  }
 },
 "nbformat": 4,
 "nbformat_minor": 2,
 "cells": [
  {
   "cell_type": "code",
   "execution_count": 7,
   "metadata": {},
   "outputs": [],
   "source": [
    "import numpy as np\n",
    "import pandas as pd\n"
   ]
  },
  {
   "cell_type": "code",
   "execution_count": null,
   "metadata": {},
   "outputs": [],
   "source": [
    "#神经网络基础\n",
    "1.感知机：输入多个信号，输出一个信号，权重和阈值， 与门，与非门、或门、异或门\n",
    "2.激活函数是连接感知机和神经网络的桥梁，已知的激活函数： sigmoid、reLu、阶跃函数"
   ]
  },
  {
   "cell_type": "code",
   "execution_count": 2,
   "metadata": {},
   "outputs": [],
   "source": [
    "#感知机的简单实现\n",
    "def perceptor_and(x1,x2):\n",
    "    w1,w2, theta = 0.5, 0.5, 0.7\n",
    "    tmp = x1*w1 + x2*w2\n",
    "    if tmp <= theta:\n",
    "        return 0\n",
    "    elif tmp > theta:\n",
    "        return 1\n",
    "    "
   ]
  },
  {
   "cell_type": "code",
   "execution_count": 5,
   "metadata": {},
   "outputs": [
    {
     "output_type": "execute_result",
     "data": {
      "text/plain": [
       "0"
      ]
     },
     "metadata": {},
     "execution_count": 5
    }
   ],
   "source": [
    "perceptor_and(0,1)"
   ]
  },
  {
   "cell_type": "code",
   "execution_count": 8,
   "metadata": {},
   "outputs": [
    {
     "output_type": "execute_result",
     "data": {
      "text/plain": [
       "array([0. , 0.5])"
      ]
     },
     "metadata": {},
     "execution_count": 8
    }
   ],
   "source": [
    "#矩阵实现\n",
    "x = np.array([0,1])\n",
    "w = np.array([0.5,0.5])\n",
    "b= -0.7\n",
    "w*x"
   ]
  },
  {
   "cell_type": "code",
   "execution_count": 12,
   "metadata": {},
   "outputs": [
    {
     "output_type": "stream",
     "name": "stdout",
     "text": [
      "-0.19999999999999996 0.5 -0.7\n"
     ]
    }
   ],
   "source": [
    "print(np.sum(w*x) + b, np.sum(w*x), b)"
   ]
  },
  {
   "cell_type": "code",
   "execution_count": 13,
   "metadata": {},
   "outputs": [],
   "source": [
    "#使用权重偏置项实现\n",
    "def perceptor__array_and(x1,x2):\n",
    "    x = np.array([x1,x2])\n",
    "    w = np.array([0.5,0.5])\n",
    "    b = -0.7\n",
    "    tem = np.sum(w*x) +b\n",
    "    if tem <= 0:\n",
    "        return 0\n",
    "    else :\n",
    "        return 1\n",
    "\n"
   ]
  },
  {
   "source": [
    "神经网络的内积"
   ],
   "cell_type": "markdown",
   "metadata": {}
  },
  {
   "cell_type": "code",
   "execution_count": 14,
   "metadata": {},
   "outputs": [
    {
     "output_type": "stream",
     "name": "stdout",
     "text": [
      "[1 2] [[1 3 5]\n [2 4 6]] [ 5 11 17]\n"
     ]
    }
   ],
   "source": [
    "#神经网络的矩阵实现\n",
    "#X(2) W(2*3) Y(3) ndim()\n",
    "X = np.array([1,2])\n",
    "W = np.array([[1,3,5],[2,4,6]])\n",
    "Y = np.dot(X, W)\n",
    "print(X, W, Y)\n"
   ]
  },
  {
   "source": [
    "#3层神经网络的实现\n",
    "#2-3-2-2全连接网络\n",
    "a1(1) = x1*w11(1) + x2*w12(1) + b1(1)\n",
    "A(1) = X*W + B\n",
    "其中A(1) = [a1,a2,a3]\n",
    "X = [x1, x2]\n",
    "B = [b1(1), b2(1), b3(1)]\n",
    "W = [[w11(1),w12(1),w13(1)],\n",
    "    [w21(1),w22(1),w23(1)]]"
   ],
   "cell_type": "markdown",
   "metadata": {}
  },
  {
   "cell_type": "code",
   "execution_count": 15,
   "metadata": {},
   "outputs": [
    {
     "output_type": "stream",
     "name": "stdout",
     "text": [
      "(2, 3) (2,) (3,)\n"
     ]
    }
   ],
   "source": [
    "X = np.array([1, 0.5])\n",
    "W1 = np.array([[0.1, 0.3, 0.5],[0.2, 0.4, 0.6]])\n",
    "B1 = np.array([0.1, 0.2, 0.3])\n",
    "\n",
    "print(W1.shape, X.shape, B1.shape)"
   ]
  },
  {
   "cell_type": "code",
   "execution_count": 19,
   "metadata": {},
   "outputs": [],
   "source": [
    "A1 = npL.dot(X,W1) + B1.T"
   ]
  },
  {
   "cell_type": "code",
   "execution_count": 20,
   "metadata": {},
   "outputs": [
    {
     "output_type": "execute_result",
     "data": {
      "text/plain": [
       "array([0.3, 0.7, 1.1])"
      ]
     },
     "metadata": {},
     "execution_count": 20
    }
   ],
   "source": [
    "A1"
   ]
  },
  {
   "cell_type": "code",
   "execution_count": null,
   "metadata": {},
   "outputs": [],
   "source": []
  }
 ]
}