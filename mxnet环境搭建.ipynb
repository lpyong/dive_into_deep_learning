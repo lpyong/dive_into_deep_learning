{
 "cells": [
  {
   "cell_type": "code",
   "execution_count": null,
   "metadata": {},
   "outputs": [],
   "source": [
    "#运行本书的代码运行环境，需要先清除以前的镜像源，否则会报错\n",
    "conda config --remove channels url \n"
   ]
  },
  {
   "cell_type": "code",
   "execution_count": null,
   "metadata": {},
   "outputs": [],
   "source": [
    "conda config --remove channels  https://mirrors.ustc.edu.cn/anaconda/cloud/menpo/\n",
    "conda config --remove channels https://mirrors.ustc.edu.cn/anaconda/cloud/bioconda/\n",
    "conda config --remove channels https://mirrors.ustc.edu.cn/anaconda/cloud/msys2/\n",
    "conda config --remove channels  https://mirrors.ustc.edu.cn/anaconda/cloud/conda-forge/\n",
    "conda config --remove channels  https://mirrors.ustc.edu.cn/anaconda/pkgs/free/\n",
    "conda config --remove channels https://mirrors.ustc.edu.cn/anaconda/pkgs/main/\n",
    "conda config --remove channels  https://mirrors.tuna.tsinghua.edu.cn/anaconda/pkgs/free/\n",
    "\n",
    "conda config --remove channels channelshttps://mirrors.tuna.tsinghua.edu.cn/anaconda/pkgs/main\n",
    "conda config --remove channels https://mirrors.tuna.tsinghua.edu.cn/anaconda/pkgs/free\n",
    "conda config --remove channels https://mirrors.tuna.tsinghua.edu.cn/anaconda/pkgs/r\n",
    "conda config --remove channels https://mirrors.tuna.tsinghua.edu.cn/anaconda/cloud/pytorch/\n",
    "conda config --remove channels https://mirrors.tuna.tsinghua.edu.cn/anaconda/cloud/msys2\n",
    "conda config --remove channels https://mirrors.tuna.tsinghua.edu.cn/anaconda/cloud/conda-forge"
   ]
  },
  {
   "cell_type": "code",
   "execution_count": null,
   "metadata": {},
   "outputs": [],
   "source": [
    "#下载本书的代码包https://zh.diveintodeeplearning.org/d2l-zh-1.0.zip，创建⽂件夹“d2l-zh”并将以上压缩包解压到这个⽂件夹\n",
    "pip config set global.index-url https://pypi.tuna.tsinghua.edu.cn/simple\n",
    "conda env create -f environment.yml"
   ]
  },
  {
   "cell_type": "code",
   "execution_count": null,
   "metadata": {},
   "outputs": [],
   "source": [
    "?activate gluon\n"
   ]
  },
  {
   "cell_type": "code",
   "execution_count": null,
   "metadata": {},
   "outputs": [],
   "source": []
  }
 ],
 "metadata": {
  "kernelspec": {
   "display_name": "Python 3",
   "language": "python",
   "name": "python3"
  },
  "language_info": {
   "codemirror_mode": {
    "name": "ipython",
    "version": 3
   },
   "file_extension": ".py",
   "mimetype": "text/x-python",
   "name": "python",
   "nbconvert_exporter": "python",
   "pygments_lexer": "ipython3",
   "version": "3.8.3"
  }
 },
 "nbformat": 4,
 "nbformat_minor": 4
}