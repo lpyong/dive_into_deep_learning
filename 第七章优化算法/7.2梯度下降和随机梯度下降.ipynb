%matplotlib inline
import gluonbook as gb
import math
from mxnet import nd
import numpy as np
