{
 "cells": [
  {
   "cell_type": "code",
   "execution_count": 2,
   "metadata": {},
   "outputs": [],
   "source": [
    "import gluonbook as gb\n",
    "from mxnet import nd\n",
    "from mxnet.gluon import rnn\n",
    "(corpus_indices, char_to_idx, idx_to_char,\n",
    "vocab_size) = gb.load_data_jay_lyrics()"
   ]
  },
  {
   "cell_type": "code",
   "execution_count": 8,
   "metadata": {},
   "outputs": [],
   "source": [
    "num_inputs, num_hiddens, num_outputs = vocab_size, 256, vocab_size\n",
    "ctx = gb.try_gpu()\n",
    "def get_params():\n",
    "    def _one(shape):\n",
    "        return nd.random.normal(scale=0.01, shape=shape, ctx=ctx)\n",
    "    def _three():\n",
    "        return (_one((num_inputs, num_hiddens)),_one((num_hiddens, num_hiddens)),nd.zeros(num_hiddens, ctx=ctx))\n",
    "\n",
    "    W_xi,W_hi, b_i = _three()  #输入门参数\n",
    "    W_xf,W_hf, b_f = _three()  #输入门参数\n",
    "    W_xo,W_ho, b_o = _three()  #输入门参数\n",
    "    W_xc, W_hc, b_c = _three() # 候选细胞参数\n",
    "    # 输出层参数。\n",
    "    W_hq = _one((num_hiddens, num_outputs))\n",
    "    b_q = nd.zeros(num_outputs, ctx = ctx)\n",
    "    params = [W_xi, W_hi, b_i, W_xf, W_hf, b_f, W_xo, W_ho, b_o, W_xc, W_hc,b_c, W_hq, b_q]\n",
    "    for param in params:\n",
    "        param.attach_grad()\n",
    "    return params"
   ]
  },
  {
   "cell_type": "code",
   "execution_count": 4,
   "metadata": {},
   "outputs": [],
   "source": [
    "def init_lstm_state(batch_size, num_hiddens, ctx):\n",
    "    return (nd.zeros(shape=(batch_size, num_hiddens), ctx=ctx),nd.zeros(shape=(batch_size, num_hiddens), ctx=ctx))"
   ]
  },
  {
   "cell_type": "code",
   "execution_count": 12,
   "metadata": {},
   "outputs": [],
   "source": [
    "def lstm(inputs, state, params):\n",
    "    [W_xi, W_hi, b_i, W_xf, W_hf, b_f, W_xo,W_ho, b_o,W_xc, W_hc, b_c,W_hq, b_q] = params\n",
    "    (H,C) = state\n",
    "    outputs = []\n",
    "    for x in inputs:\n",
    "        I = nd.sigmoid(nd.dot(x,W_xi) + nd.dot(H, W_hi) + b_i)\n",
    "        F = nd.sigmoid(nd.dot(x,W_xf) + nd.dot(H, W_hf) + b_f)\n",
    "        O = nd.sigmoid(nd.dot(x,W_xo) + nd.dot(H, W_ho) + b_o)\n",
    "        C_tilda = nd.tanh(nd.dot(x,W_xc) + nd.dot(H, W_hc) + b_c)\n",
    "        C = F * C + I * C_tilda\n",
    "        H = O * C.tanh()\n",
    "        Y = nd.dot(H, W_hq) + b_q\n",
    "        outputs.append(Y)\n",
    "    return outputs, (H, C)\n"
   ]
  },
  {
   "cell_type": "code",
   "execution_count": 6,
   "metadata": {},
   "outputs": [],
   "source": [
    "num_epochs, num_steps, batch_size, lr, clipping_theta = 160, 35, 32, 1e2, 1e-2\n",
    "pred_period, pred_len, prefixes = 40, 50, ['分开', '不分开']"
   ]
  },
  {
   "cell_type": "code",
   "execution_count": 13,
   "metadata": {},
   "outputs": [
    {
     "name": "stdout",
     "output_type": "stream",
     "text": [
      "epoch 40, perplexity 210.692163, time 1.94 sec\n",
      " - 分开 我不不我你我你你你你 我不你我我你你你你 我不你我我你你你你 我不你我我你你你你 我不你我我你你你\n",
      " - 不分开 我不不我你我你你你你 我不你我我你你你你 我不你我我你你你你 我不你我我你你你你 我不你我我你你你\n",
      "epoch 80, perplexity 65.219419, time 1.90 sec\n",
      " - 分开 我想你这你我 我不要 我不要 我不要 我不要 我不不 我不要 我不不 我不要 我不了 我不了 我不\n",
      " - 不分开 我想你你想你 我不要 我不要 我不要 我不要 我不不 我不要 我不不 我不要 我不了 我不了 我不\n",
      "epoch 120, perplexity 16.164667, time 1.94 sec\n",
      " - 分开 我想你你的微笑 一样 没想我的久着 我想想你的微笑 我想你你的微笑 我想想你的微笑 我想想你的微笑\n",
      " - 不分开 我想要你的微笑 像想样你的睡笑 我想你你的微笑 我想想你的微笑 我想想你的微笑 我想想你的微笑 我\n",
      "epoch 160, perplexity 4.250696, time 1.87 sec\n",
      " - 分开 我想带你的微笑 像这好的生活 我爱你 你爱我 我想要声宣活 对你依依不舍 连隔悄邻默都到到我现在的\n",
      " - 不分开 我已经你的我笑不知龙能风开  我知道这里很美但家乡的你更美 我想要你骑很美 但 想想你口睡著 想这\n"
     ]
    }
   ],
   "source": [
    "gb.train_and_predict_rnn(lstm, get_params, init_lstm_state, num_hiddens,vocab_size, ctx, corpus_indices, idx_to_char,\\\n",
    "char_to_idx, False, num_epochs, num_steps, lr,clipping_theta, batch_size, pred_period, pred_len,prefixes)"
   ]
  },
  {
   "cell_type": "code",
   "execution_count": null,
   "metadata": {},
   "outputs": [],
   "source": []
  }
 ],
 "metadata": {
  "kernelspec": {
   "display_name": "Python 3.6.12 64-bit ('gluon': conda)",
   "name": "python3612jvsc74a57bd0ff1e23e0936b7ed9773e20af4412028dbcf86e20ac6ff7e144d4776d8198c6df"
  },
  "language_info": {
   "codemirror_mode": {
    "name": "ipython",
    "version": 3
   },
   "file_extension": ".py",
   "mimetype": "text/x-python",
   "name": "python",
   "nbconvert_exporter": "python",
   "pygments_lexer": "ipython3",
   "version": "3.6.12"
  },
  "orig_nbformat": 2
 },
 "nbformat": 4,
 "nbformat_minor": 2
}