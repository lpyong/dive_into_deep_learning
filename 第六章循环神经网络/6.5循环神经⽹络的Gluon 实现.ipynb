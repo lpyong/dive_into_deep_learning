{
 "cells": [
  {
   "cell_type": "code",
   "execution_count": 6,
   "metadata": {},
   "outputs": [],
   "source": [
    "import gluonbook as gb\n",
    "import math\n",
    "from mxnet import autograd, gluon, init, nd\n",
    "from mxnet.gluon import loss as gloss, nn, rnn\n",
    "import time\n",
    "(corpus_indices, char_to_idx, idx_to_char,vocab_size) = gb.load_data_jay_lyrics()"
   ]
  },
  {
   "cell_type": "code",
   "execution_count": 7,
   "metadata": {},
   "outputs": [],
   "source": [
    "num_hiddens = 256\n",
    "rnn_layer = rnn.RNN(num_hiddens)\n",
    "rnn_layer.initialize()"
   ]
  },
  {
   "cell_type": "code",
   "execution_count": 8,
   "metadata": {},
   "outputs": [
    {
     "data": {
      "text/plain": "(1, 2, 256)"
     },
     "execution_count": 8,
     "metadata": {},
     "output_type": "execute_result"
    }
   ],
   "source": [
    "batch_size = 2\n",
    "state = rnn_layer.begin_state(batch_size=batch_size)\n",
    "state[0].shape"
   ]
  },
  {
   "cell_type": "code",
   "execution_count": 12,
   "metadata": {},
   "outputs": [
    {
     "data": {
      "text/plain": "((35, 2, 256), 1, (1, 2, 256))"
     },
     "execution_count": 12,
     "metadata": {},
     "output_type": "execute_result"
    }
   ],
   "source": [
    "num_steps = 35\n",
    "X = nd.random.uniform(shape=(num_steps, batch_size, vocab_size))\n",
    "Y, state_new = rnn_layer(X, state)\n",
    "Y.shape, len(state_new), state_new[0].shape"
   ]
  },
  {
   "cell_type": "code",
   "execution_count": 13,
   "metadata": {},
   "outputs": [],
   "source": [
    "class RNNModel(nn.Block):\n",
    "    def __init__(self, rnn_layer, vocab_size, **kwargs):\n",
    "        super(RNNModel, self).__init__(**kwargs)\n",
    "        self.rnn = rnn_layer\n",
    "        self.vocab_size = vocab_size\n",
    "        self.dense = nn.Dense(vocab_size)\n",
    "    def forward(self, inputs, state):\n",
    "        # 将输⼊转置成（num_steps，batch_size）后获取one-hot 向量表⽰。\n",
    "        X = nd.one_hot(inputs.T, self.vocab_size)\n",
    "\n",
    "        Y, state = self.rnn(X, state)\n",
    "        # 全连接层会⾸先将Y 的形状变成（num_steps * batch_size，num_hiddens），\n",
    "        # 它的输出形状为（num_steps * batch_size，vocab_size）。\n",
    "        output = self.dense(Y.reshape((-1, Y.shape[-1])))\n",
    "        return output, state\n",
    "    def begin_state(self, *args, **kwargs):\n",
    "        return self.rnn.begin_state(*args, **kwargs)"
   ]
  },
  {
   "cell_type": "code",
   "execution_count": 14,
   "metadata": {},
   "outputs": [],
   "source": [
    "def predict_rnn_gluon(prefix, num_chars, model, vocab_size, ctx, idx_to_char,char_to_idx):\n",
    "    # 使⽤model 的成员函数来初始化隐藏状态。\n",
    "    state = model.begin_state(batch_size=1, ctx=ctx)\n",
    "    output = [char_to_idx[prefix[0]]]\n",
    "    for t in range(num_chars + len(prefix) - 1):\n",
    "        X = nd.array([output[-1]], ctx=ctx).reshape((1, 1))\n",
    "        (Y, state) = model(X, state) # 前向计算不需要传⼊模型参数。\n",
    "        if t < len(prefix) - 1:\n",
    "            output.append(char_to_idx[prefix[t + 1]])\n",
    "        else:\n",
    "            output.append(int(Y.argmax(axis=1).asscalar()))\n",
    "    return ''.join([idx_to_char[i] for i in output])"
   ]
  },
  {
   "cell_type": "code",
   "execution_count": 20,
   "metadata": {},
   "outputs": [
    {
     "data": {
      "text/plain": "'分开轻婆分毛蟑娇缘几娇功'"
     },
     "execution_count": 20,
     "metadata": {},
     "output_type": "execute_result"
    }
   ],
   "source": [
    "ctx = gb.try_gpu()\n",
    "model = RNNModel(rnn_layer, vocab_size)\n",
    "model.initialize(force_reinit=True, ctx=ctx)\n",
    "predict_rnn_gluon('分开', 10, model, vocab_size, ctx, idx_to_char, char_to_idx)"
   ]
  },
  {
   "cell_type": "code",
   "execution_count": 21,
   "metadata": {},
   "outputs": [],
   "source": [
    "def train_and_predict_rnn_gluon(model, num_hiddens, vocab_size, ctx,corpus_indices, idx_to_char, char_to_idx,num_epochs, num_steps, lr, clipping_theta,batch_size, pred_period, pred_len, prefixes):\n",
    "    loss = gloss.SoftmaxCrossEntropyLoss()\n",
    "    model.initialize(ctx=ctx, force_reinit=True, init=init.Normal(0.01))\n",
    "    trainer = gluon.Trainer(model.collect_params(), 'sgd',{'learning_rate': lr, 'momentum': 0, 'wd': 0})\n",
    "    for epoch in range(num_epochs):\n",
    "        loss_sum, start = 0.0, time.time()\n",
    "        data_iter = gb.data_iter_consecutive(corpus_indices, batch_size, num_steps, ctx)\n",
    "        state = model.begin_state(batch_size=batch_size, ctx=ctx)\n",
    "        for t, (X, Y) in enumerate(data_iter):\n",
    "            for s in state:\n",
    "                s.detach()\n",
    "            with autograd.record():\n",
    "                (output, state) = model(X, state)\n",
    "                y = Y.T.reshape((-1,))\n",
    "                l = loss(output, y).mean()\n",
    "            l.backward()\n",
    "            # 梯度裁剪。\n",
    "            params = [p.data() for p in model.collect_params().values()]\n",
    "            gb.grad_clipping(params, clipping_theta, ctx)\n",
    "            trainer.step(1) # 因为已经误差取过均值，梯度不⽤再做平均。\n",
    "            loss_sum += l.asscalar()\n",
    "        if (epoch + 1) % pred_period == 0:\n",
    "            print('epoch %d, perplexity %f, time %.2f sec' % (epoch + 1, math.exp(loss_sum / (t + 1)), time.time() - start))\n",
    "            for prefix in prefixes:\n",
    "                print(' -', predict_rnn_gluon(prefix, pred_len, model, vocab_size,ctx, idx_to_char, char_to_idx))"
   ]
  },
  {
   "cell_type": "code",
   "execution_count": 22,
   "metadata": {},
   "outputs": [
    {
     "name": "stdout",
     "output_type": "stream",
     "text": [
      "epoch 50, perplexity 79.629996, time 0.49 sec\n",
      " - 分开 我不能再爱 我不能再想 我不能再想 我不能再想 我不能再想 我不能再想 我不能再想 我不能再想 我\n",
      " - 不分开 我想你这生写我不能你想 我不能再想 我不能再想 我不能再想 我不能再想 我不能再想 我不能再想 我\n",
      "epoch 100, perplexity 13.354801, time 0.44 sec\n",
      " - 分开 我不儿这想瘦我不你再想躲我的证跳面你走力看着我 别不依旧每日折一枝杨柳望著天 看星星暴风圈的老斑鸠\n",
      " - 不分开 我给到这样牵三你的手不放开 爱可不可以笑简的暴平有缓走爱可我 你不着 语沉默么面着我 甩开球我满腔\n",
      "epoch 150, perplexity 4.075850, time 0.44 sec\n",
      " - 分开 我不能这样牵 你 不头我 我拿着 难过 篮的完色主  将能不  我的恨都家 一起看着 走谁的脚 我\n",
      " - 不分开 我是 你说 我不 我不 我不 我不  不情我的见你就一场悲剧 我可我这辈子注定一个人演戏 最后再一\n",
      "epoch 200, perplexity 2.470086, time 0.44 sec\n",
      " - 分开 我已儿这样走 静着悄悄默默 藤隔壁不多 几非都没有喝水也的窝 它在灌木丛旁邂逅 一只令它心仪的母斑\n",
      " - 不分开 我来到的叹息著西 什么我都做泪到 但壶个人 再来一步热粥 一上几斤池里 快攻抢篮板 除非是乌鸦抢了\n"
     ]
    }
   ],
   "source": [
    "num_epochs, batch_size, lr, clipping_theta = 200, 32, 1e2, 1e-2\n",
    "pred_period, pred_len, prefixes = 50, 50, ['分开', '不分开']\n",
    "train_and_predict_rnn_gluon(model, num_hiddens, vocab_size, ctx,corpus_indices, idx_to_char, char_to_idx,num_epochs, num_steps, lr, clipping_theta,batch_size, pred_period, pred_len, prefixes)"
   ]
  },
  {
   "cell_type": "code",
   "execution_count": null,
   "metadata": {},
   "outputs": [],
   "source": []
  }
 ],
 "metadata": {
  "kernelspec": {
   "display_name": "Python 3.6.12 64-bit ('gluon': conda)",
   "name": "python3612jvsc74a57bd0ff1e23e0936b7ed9773e20af4412028dbcf86e20ac6ff7e144d4776d8198c6df"
  },
  "language_info": {
   "name": "python",
   "version": ""
  },
  "orig_nbformat": 2
 },
 "nbformat": 4,
 "nbformat_minor": 2
}