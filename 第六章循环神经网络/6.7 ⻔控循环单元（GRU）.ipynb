{
 "cells": [
  {
   "cell_type": "code",
   "execution_count": 2,
   "metadata": {},
   "outputs": [],
   "source": [
    "import gluonbook as gb\n",
    "from mxnet import nd\n",
    "from mxnet.gluon import rnn\n",
    "(corpus_indices, char_to_idx, idx_to_char,vocab_size) = gb.load_data_jay_lyrics()"
   ]
  },
  {
   "cell_type": "code",
   "execution_count": 4,
   "metadata": {},
   "outputs": [],
   "source": [
    "num_inputs, num_hiddens, num_outputs = vocab_size, 256, vocab_size\n",
    "ctx = gb.try_gpu()\n",
    "def get_params():\n",
    "    def _one(shape):\n",
    "        return nd.random.normal(scale=0.01, shape=shape, ctx=ctx)\n",
    "    def _three():\n",
    "        return (_one((num_inputs, num_hiddens)),_one((num_hiddens, num_hiddens)),nd.zeros(num_hiddens, ctx=ctx))\n",
    "    W_xz, W_hz, b_z = _three() # 更新⻔参数。\n",
    "    W_xr, W_hr, b_r = _three() # 重置⻔参数。\n",
    "    W_xh, W_hh, b_h = _three() # 候选隐藏状态参数。\n",
    "    # 输出层参数。\n",
    "    W_hq = _one((num_hiddens, num_outputs))\n",
    "    b_q = nd.zeros(num_outputs, ctx=ctx)\n",
    "    # 创建梯度。\n",
    "    params = [W_xz, W_hz, b_z, W_xr, W_hr, b_r, W_xh, W_hh, b_h, W_hq, b_q]\n",
    "    for param in params:\n",
    "        param.attach_grad()\n",
    "    return params"
   ]
  },
  {
   "cell_type": "code",
   "execution_count": 5,
   "metadata": {},
   "outputs": [],
   "source": [
    "def init_gru_state(batch_size, num_hiddens, ctx):\n",
    "    return (nd.zeros(shape=(batch_size, num_hiddens), ctx=ctx), )"
   ]
  },
  {
   "cell_type": "code",
   "execution_count": 6,
   "metadata": {},
   "outputs": [],
   "source": [
    "def gru(inputs, state, params):\n",
    "    W_xz, W_hz, b_z, W_xr, W_hr, b_r, W_xh, W_hh, b_h, W_hq, b_q = params\n",
    "    H, = state\n",
    "    outputs = []\n",
    "    for X in inputs:\n",
    "        Z = nd.sigmoid(nd.dot(X, W_xz) + nd.dot(H, W_hz) + b_z)\n",
    "        R = nd.sigmoid(nd.dot(X, W_xr) + nd.dot(H, W_hr) + b_r)\n",
    "        H_tilda = nd.tanh(nd.dot(X, W_xh) + R * nd.dot(H, W_hh) + b_h)\n",
    "        H = Z * H + (1 - Z) * H_tilda\n",
    "        Y = nd.dot(H, W_hq) + b_q\n",
    "        outputs.append(Y)\n",
    "    return outputs, (H,)"
   ]
  },
  {
   "cell_type": "code",
   "execution_count": 7,
   "metadata": {},
   "outputs": [],
   "source": [
    "num_epochs, num_steps, batch_size, lr, clipping_theta = 160, 35, 32, 1e2, 1e-2\n",
    "pred_period, pred_len, prefixes = 40, 50, ['分开', '不分开']"
   ]
  },
  {
   "cell_type": "code",
   "execution_count": 8,
   "metadata": {},
   "outputs": [
    {
     "name": "stdout",
     "output_type": "stream",
     "text": [
      "epoch 40, perplexity 152.932234, time 1.66 sec\n",
      " - 分开 我想你的让我 我想你的让我 我想你的让我不 我想你的让我不 我想你的让我不 我想你的让我不 我想你\n",
      " - 不分开 我想你的让我 我想你的让我 我想你的让我不 我想你的让我不 我想你的让我不 我想你的让我不 我想你\n",
      "epoch 80, perplexity 31.515494, time 1.75 sec\n",
      " - 分开 我想想这样 我有 这样的我有你 一场个人剧 你的让我面动 让你在我不多 让你在我不多 让你在我不多\n",
      " - 不分开 爱你在我已经你 一场个人剧 你的完美栈人 让果我有你想你 一场个人剧 你的完美栈人 你爱在我遇见你\n",
      "epoch 120, perplexity 4.741425, time 1.66 sec\n",
      " - 分开我 想要这样的路快幽默 说便说你已经很美  穿和的话不起 让你在我都睡着   穿了其实我有多 我说的\n",
      " - 不分开 我知不觉 你已经一个人 后知后觉 我该好好生活 我该好好生活 不知不觉 你已经离开我 不知不觉 我\n",
      "epoch 160, perplexity 1.429167, time 1.57 sec\n",
      " - 分开我 没有一直实我 不知不觉 我跟了这节奏 后知后觉 又过了一个秋 后知后觉 我该好好生活 我该好好生\n",
      " - 不分开到  我去回到你对找 也才 你想上久了吧? 我的认真败给黑色幽默 走过了很多地方 我来到伊斯坦堡 就\n"
     ]
    }
   ],
   "source": [
    "gb.train_and_predict_rnn(gru, get_params, init_gru_state, num_hiddens,vocab_size, ctx, corpus_indices, idx_to_char,char_to_idx, False, num_epochs, num_steps, lr,clipping_theta, batch_size, pred_period, pred_len,prefixes)"
   ]
  },
  {
   "cell_type": "code",
   "execution_count": null,
   "metadata": {},
   "outputs": [],
   "source": []
  }
 ],
 "metadata": {
  "kernelspec": {
   "display_name": "Python 3.6.12 64-bit ('gluon': conda)",
   "name": "python3612jvsc74a57bd0ff1e23e0936b7ed9773e20af4412028dbcf86e20ac6ff7e144d4776d8198c6df"
  },
  "language_info": {
   "name": "python",
   "version": ""
  },
  "orig_nbformat": 2
 },
 "nbformat": 4,
 "nbformat_minor": 2
}