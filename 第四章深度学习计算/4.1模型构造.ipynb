{
 "metadata": {
  "language_info": {
   "codemirror_mode": {
    "name": "ipython",
    "version": 3
   },
   "file_extension": ".py",
   "mimetype": "text/x-python",
   "name": "python",
   "nbconvert_exporter": "python",
   "pygments_lexer": "ipython3",
   "version": "3.6.12"
  },
  "orig_nbformat": 2,
  "kernelspec": {
   "name": "python3612jvsc74a57bd0ff1e23e0936b7ed9773e20af4412028dbcf86e20ac6ff7e144d4776d8198c6df",
   "display_name": "Python 3.6.12 64-bit ('gluon': conda)"
  }
 },
 "nbformat": 4,
 "nbformat_minor": 2,
 "cells": [
  {
   "cell_type": "code",
   "execution_count": 3,
   "metadata": {},
   "outputs": [],
   "source": [
    "from mxnet import nd\n",
    "from mxnet.gluon import nn"
   ]
  },
  {
   "cell_type": "code",
   "execution_count": 5,
   "metadata": {},
   "outputs": [],
   "source": [
    "class MLP(nn.Block):   #重载 重载发生在本类,方法名相同,参数列表不同,与返回值无关,只和方法名,参数列表,参数的类型有关.\n",
    "    # 声明带有模型参数的层，这⾥我们声明了两个全连接层。\n",
    "    def __init__(self, **kwargs):\n",
    "    # 调⽤MLP ⽗类Block 的构造函数来进⾏必要的初始化。这样在构造实例时还可以指定\n",
    "    # 其他函数参数，例如后⾯章节将介绍的模型参数params。\n",
    "        super(MLP, self).__init__(**kwargs)  #super 找到mlp的父类，将mlp的对象转换成父类的对象\n",
    "        self.hidden = nn.Dense(256, activation='relu') # 隐藏层。\n",
    "        self.output = nn.Dense(10) # 输出层。\n",
    "    # 定义模型的前向计算，即如何根据输⼊x 计算返回所需要的模型输出。\n",
    "    def forward(self, x):\n",
    "        return self.output(self.hidden(x))"
   ]
  },
  {
   "cell_type": "code",
   "execution_count": 8,
   "metadata": {},
   "outputs": [
    {
     "output_type": "execute_result",
     "data": {
      "text/plain": [
       "\n",
       "[[ 0.02394444  0.05150646  0.01035161 -0.06435342 -0.05801985  0.06419201\n",
       "   0.04472664 -0.01852541 -0.03237377  0.0738937 ]\n",
       " [ 0.05207362  0.04186264  0.04021509 -0.06558425 -0.02249499  0.03413139\n",
       "   0.02135914 -0.06898529  0.02329671  0.00336681]]\n",
       "<NDArray 2x10 @cpu(0)>"
      ]
     },
     "metadata": {},
     "execution_count": 8
    }
   ],
   "source": [
    "x = nd.random.uniform(shape = (2,20))  \n",
    "net = MLP()\n",
    "net.initialize()\n",
    "net(x)"
   ]
  },
  {
   "cell_type": "code",
   "execution_count": 13,
   "metadata": {},
   "outputs": [],
   "source": [
    "class FancyMLP(nn.Block):\n",
    "    def __init__(self, **kwargs):\n",
    "        super(FancyMLP, self).__init__(**kwargs)\n",
    "        # 使⽤get_constant 创建的随机权重参数不会在训练中被迭代（即常数参数）。\n",
    "        self.rand_weight = self.params.get_constant('rand_weight', nd.random.uniform(shape=(20, 20)))\n",
    "        self.dense = nn.Dense(20, activation='relu')\n",
    "    def forward(self, x):\n",
    "        x = self.dense(x)\n",
    "        # 使⽤创建的常数参数，以及NDArray 的relu 和dot 函数。\n",
    "        x = nd.relu(nd.dot(x, self.rand_weight.data()) + 1)\n",
    "        # 重⽤全连接层。等价于两个全连接层共享参数。\n",
    "        x = self.dense(x)\n",
    "        # 控制流，这⾥我们需要调⽤asscalar 来返回标量进⾏⽐较。\n",
    "        while x.norm().asscalar() > 1:\n",
    "            x /= 2\n",
    "        if x.norm().asscalar() < 0.8:\n",
    "            x *= 10\n",
    "        return x.sum()"
   ]
  },
  {
   "cell_type": "code",
   "execution_count": 14,
   "metadata": {},
   "outputs": [
    {
     "output_type": "execute_result",
     "data": {
      "text/plain": [
       "\n",
       "[22.833347]\n",
       "<NDArray 1 @cpu(0)>"
      ]
     },
     "metadata": {},
     "execution_count": 14
    }
   ],
   "source": [
    "net = FancyMLP()\n",
    "net.initialize()\n",
    "net(x)"
   ]
  },
  {
   "cell_type": "code",
   "execution_count": 11,
   "metadata": {},
   "outputs": [],
   "source": [
    "#由于FancyMLP 和Sequential 类都是Block 类的⼦类，我们可以嵌套调⽤它们。\n",
    "class NestMLP(nn.Block):\n",
    "    def __init__(self, **kwargs):\n",
    "        super(NestMLP, self).__init__(**kwargs)\n",
    "        self.net = nn.Sequential()\n",
    "        self.net.add(nn.Dense(64, activation='relu'),nn.Dense(32, activation='relu'))\n",
    "        self.dense = nn.Dense(16, activation='relu')\n",
    "    def forward(self, x):\n",
    "        return self.dense(self.net(x))"
   ]
  },
  {
   "cell_type": "code",
   "execution_count": 12,
   "metadata": {},
   "outputs": [
    {
     "output_type": "execute_result",
     "data": {
      "text/plain": [
       "\n",
       "[3.5920622]\n",
       "<NDArray 1 @cpu(0)>"
      ]
     },
     "metadata": {},
     "execution_count": 12
    }
   ],
   "source": [
    "net = nn.Sequential()\n",
    "net.add(NestMLP(), nn.Dense(20), FancyMLP())\n",
    "net.initialize()\n",
    "net(x)"
   ]
  },
  {
   "cell_type": "code",
   "execution_count": null,
   "metadata": {},
   "outputs": [],
   "source": []
  }
 ]
}