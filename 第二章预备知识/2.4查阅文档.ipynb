{
 "metadata": {
  "language_info": {
   "codemirror_mode": {
    "name": "ipython",
    "version": 3
   },
   "file_extension": ".py",
   "mimetype": "text/x-python",
   "name": "python",
   "nbconvert_exporter": "python",
   "pygments_lexer": "ipython3",
   "version": "3.6.12-final"
  },
  "orig_nbformat": 2,
  "kernelspec": {
   "name": "python3",
   "display_name": "Python 3",
   "language": "python"
  }
 },
 "nbformat": 4,
 "nbformat_minor": 2,
 "cells": [
  {
   "cell_type": "code",
   "execution_count": 4,
   "metadata": {},
   "outputs": [
    {
     "output_type": "stream",
     "name": "stdout",
     "text": [
      "['NDArray', '_Null', '__all__', '__builtins__', '__cached__', '__doc__', '__file__', '__loader__', '__name__', '__package__', '__spec__', '_internal', '_random_helper', 'current_context', 'exponential', 'exponential_like', 'gamma', 'gamma_like', 'generalized_negative_binomial', 'generalized_negative_binomial_like', 'multinomial', 'negative_binomial', 'negative_binomial_like', 'normal', 'normal_like', 'numeric_types', 'poisson', 'poisson_like', 'randint', 'randn', 'shuffle', 'uniform', 'uniform_like']\n"
     ]
    }
   ],
   "source": [
    "from mxnet import nd\n",
    "print(dir(nd.random))     #打印nd.random 模块中所有的成员或属性"
   ]
  },
  {
   "source": [
    "2.4.2 查找特定函数和类的使⽤"
   ],
   "cell_type": "markdown",
   "metadata": {}
  },
  {
   "cell_type": "code",
   "execution_count": 5,
   "metadata": {},
   "outputs": [
    {
     "output_type": "stream",
     "name": "stdout",
     "text": [
      "Help on function ones_like:\n\nones_like(data=None, out=None, name=None, **kwargs)\n    Return an array of ones with the same shape and type\n    as the input array.\n    \n    Examples::\n    \n      x = [[ 0.,  0.,  0.],\n           [ 0.,  0.,  0.]]\n    \n      ones_like(x) = [[ 1.,  1.,  1.],\n                      [ 1.,  1.,  1.]]\n    \n    \n    \n    Parameters\n    ----------\n    data : NDArray\n        The input\n    \n    out : NDArray, optional\n        The output NDArray to hold the result.\n    \n    Returns\n    -------\n    out : NDArray or list of NDArrays\n        The output of this function.\n\n"
     ]
    }
   ],
   "source": [
    "help(nd.ones_like)   #了解某类的具体用法"
   ]
  },
  {
   "cell_type": "code",
   "execution_count": 6,
   "metadata": {},
   "outputs": [
    {
     "output_type": "stream",
     "text": [
      "\u001b[0;31mSignature:\u001b[0m \u001b[0mnd\u001b[0m\u001b[0;34m.\u001b[0m\u001b[0mones_like\u001b[0m\u001b[0;34m(\u001b[0m\u001b[0mdata\u001b[0m\u001b[0;34m=\u001b[0m\u001b[0;32mNone\u001b[0m\u001b[0;34m,\u001b[0m \u001b[0mout\u001b[0m\u001b[0;34m=\u001b[0m\u001b[0;32mNone\u001b[0m\u001b[0;34m,\u001b[0m \u001b[0mname\u001b[0m\u001b[0;34m=\u001b[0m\u001b[0;32mNone\u001b[0m\u001b[0;34m,\u001b[0m \u001b[0;34m**\u001b[0m\u001b[0mkwargs\u001b[0m\u001b[0;34m)\u001b[0m\u001b[0;34m\u001b[0m\u001b[0;34m\u001b[0m\u001b[0m\n",
      "\u001b[0;31mDocstring:\u001b[0m\n",
      "Return an array of ones with the same shape and type\n",
      "as the input array.\n",
      "\n",
      "Examples::\n",
      "\n",
      "  x = [[ 0.,  0.,  0.],\n",
      "       [ 0.,  0.,  0.]]\n",
      "\n",
      "  ones_like(x) = [[ 1.,  1.,  1.],\n",
      "                  [ 1.,  1.,  1.]]\n",
      "\n",
      "\n",
      "\n",
      "Parameters\n",
      "----------\n",
      "data : NDArray\n",
      "    The input\n",
      "\n",
      "out : NDArray, optional\n",
      "    The output NDArray to hold the result.\n",
      "\n",
      "Returns\n",
      "-------\n",
      "out : NDArray or list of NDArrays\n",
      "    The output of this function.\n",
      "\u001b[0;31mFile:\u001b[0m      Dynamically generated function. No source code available.\n",
      "\u001b[0;31mType:\u001b[0m      function\n"
     ],
     "name": "stdout"
    }
   ],
   "source": [
    "nd.ones_like?"
   ]
  },
  {
   "cell_type": "code",
   "execution_count": 7,
   "metadata": {},
   "outputs": [
    {
     "output_type": "stream",
     "text": [
      "\u001b[0;31mSignature:\u001b[0m \u001b[0mnd\u001b[0m\u001b[0;34m.\u001b[0m\u001b[0mones_like\u001b[0m\u001b[0;34m(\u001b[0m\u001b[0mdata\u001b[0m\u001b[0;34m=\u001b[0m\u001b[0;32mNone\u001b[0m\u001b[0;34m,\u001b[0m \u001b[0mout\u001b[0m\u001b[0;34m=\u001b[0m\u001b[0;32mNone\u001b[0m\u001b[0;34m,\u001b[0m \u001b[0mname\u001b[0m\u001b[0;34m=\u001b[0m\u001b[0;32mNone\u001b[0m\u001b[0;34m,\u001b[0m \u001b[0;34m**\u001b[0m\u001b[0mkwargs\u001b[0m\u001b[0;34m)\u001b[0m\u001b[0;34m\u001b[0m\u001b[0;34m\u001b[0m\u001b[0m\n",
      "\u001b[0;31mDocstring:\u001b[0m\n",
      "Return an array of ones with the same shape and type\n",
      "as the input array.\n",
      "\n",
      "Examples::\n",
      "\n",
      "  x = [[ 0.,  0.,  0.],\n",
      "       [ 0.,  0.,  0.]]\n",
      "\n",
      "  ones_like(x) = [[ 1.,  1.,  1.],\n",
      "                  [ 1.,  1.,  1.]]\n",
      "\n",
      "\n",
      "\n",
      "Parameters\n",
      "----------\n",
      "data : NDArray\n",
      "    The input\n",
      "\n",
      "out : NDArray, optional\n",
      "    The output NDArray to hold the result.\n",
      "\n",
      "Returns\n",
      "-------\n",
      "out : NDArray or list of NDArrays\n",
      "    The output of this function.\n",
      "\u001b[0;31mFile:\u001b[0m      Dynamically generated function. No source code available.\n",
      "\u001b[0;31mType:\u001b[0m      function\n"
     ],
     "name": "stdout"
    }
   ],
   "source": [
    "nd.ones_like??"
   ]
  },
  {
   "cell_type": "code",
   "execution_count": null,
   "metadata": {},
   "outputs": [],
   "source": []
  }
 ]
}