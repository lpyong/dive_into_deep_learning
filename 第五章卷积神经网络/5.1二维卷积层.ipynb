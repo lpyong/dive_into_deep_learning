{
 "cells": [
  {
   "cell_type": "code",
   "execution_count": 4,
   "metadata": {},
   "outputs": [],
   "source": [
    "import gluonbook as gb\n",
    "from mxnet import nd\n"
   ]
  },
  {
   "cell_type": "code",
   "execution_count": 17,
   "metadata": {},
   "outputs": [],
   "source": [
    "def corr2d_multi_in(X, K):\n",
    "    #沿着X和K的第0维通道维遍历。然后使用*将结果列表变成add_n函数的位置参数（positional argument)来进行相加\n",
    "    #for  x, k in zip(X, K):\n",
    "      #  print(x,k)\n",
    "    return nd.add_n(*[gb.corr2d(x, k) for x, k in zip(X, K)])"
   ]
  },
  {
   "cell_type": "code",
   "execution_count": 6,
   "metadata": {},
   "outputs": [],
   "source": [
    "X = nd.array([[[0, 1, 2], [3, 4, 5], [6, 7, 8]],[[1, 2, 3], [4, 5, 6], [7, 8, 9]]])\n",
    "K = nd.array([[[0, 1], [2, 3]], [[1, 2], [3, 4]]])"
   ]
  },
  {
   "cell_type": "code",
   "execution_count": 7,
   "metadata": {},
   "outputs": [
    {
     "name": "stdout",
     "output_type": "stream",
     "text": [
      "\n",
      "[[0. 1. 2.]\n",
      " [3. 4. 5.]\n",
      " [6. 7. 8.]]\n",
      "<NDArray 3x3 @cpu(0)> \n",
      "[[0. 1.]\n",
      " [2. 3.]]\n",
      "<NDArray 2x2 @cpu(0)>\n",
      "\n",
      "[[1. 2. 3.]\n",
      " [4. 5. 6.]\n",
      " [7. 8. 9.]]\n",
      "<NDArray 3x3 @cpu(0)> \n",
      "[[1. 2.]\n",
      " [3. 4.]]\n",
      "<NDArray 2x2 @cpu(0)>\n"
     ]
    },
    {
     "data": {
      "text/plain": "\n[[ 56.  72.]\n [104. 120.]]\n<NDArray 2x2 @cpu(0)>"
     },
     "execution_count": 7,
     "metadata": {},
     "output_type": "execute_result"
    }
   ],
   "source": [
    "corr2d_multi_in(X,K)"
   ]
  },
  {
   "cell_type": "markdown",
   "metadata": {},
   "source": [
    "5.3.2 多输出通道"
   ]
  },
  {
   "cell_type": "code",
   "execution_count": 8,
   "metadata": {},
   "outputs": [],
   "source": [
    "def corr2d_multi_in_out(X, K):\n",
    "    # 对K 的第0 维遍历，每次同输⼊X 做互相关计算。所有结果使⽤stack 函数合并在⼀起。\n",
    "    return nd.stack(*[corr2d_multi_in(X, k) for k in K])"
   ]
  },
  {
   "cell_type": "code",
   "execution_count": 9,
   "metadata": {},
   "outputs": [
    {
     "data": {
      "text/plain": "\n[[[[0. 1.]\n   [2. 3.]]\n\n  [[1. 2.]\n   [3. 4.]]]\n\n\n [[[1. 2.]\n   [3. 4.]]\n\n  [[2. 3.]\n   [4. 5.]]]\n\n\n [[[2. 3.]\n   [4. 5.]]\n\n  [[3. 4.]\n   [5. 6.]]]]\n<NDArray 3x2x2x2 @cpu(0)>"
     },
     "execution_count": 9,
     "metadata": {},
     "output_type": "execute_result"
    }
   ],
   "source": [
    "K = nd.stack(K, K + 1, K + 2)\n",
    "K"
   ]
  },
  {
   "cell_type": "code",
   "execution_count": 10,
   "metadata": {},
   "outputs": [
    {
     "data": {
      "text/plain": "(3, 2, 2, 2)"
     },
     "execution_count": 10,
     "metadata": {},
     "output_type": "execute_result"
    }
   ],
   "source": [
    "K.shape"
   ]
  },
  {
   "cell_type": "code",
   "execution_count": 11,
   "metadata": {},
   "outputs": [
    {
     "name": "stdout",
     "output_type": "stream",
     "text": [
      "\n",
      "[[0. 1. 2.]\n",
      " [3. 4. 5.]\n",
      " [6. 7. 8.]]\n",
      "<NDArray 3x3 @cpu(0)> \n",
      "[[0. 1.]\n",
      " [2. 3.]]\n",
      "<NDArray 2x2 @cpu(0)>\n",
      "\n",
      "[[1. 2. 3.]\n",
      " [4. 5. 6.]\n",
      " [7. 8. 9.]]\n",
      "<NDArray 3x3 @cpu(0)> \n",
      "[[1. 2.]\n",
      " [3. 4.]]\n",
      "<NDArray 2x2 @cpu(0)>\n",
      "\n",
      "[[0. 1. 2.]\n",
      " [3. 4. 5.]\n",
      " [6. 7. 8.]]\n",
      "<NDArray 3x3 @cpu(0)> \n",
      "[[1. 2.]\n",
      " [3. 4.]]\n",
      "<NDArray 2x2 @cpu(0)>\n",
      "\n",
      "[[1. 2. 3.]\n",
      " [4. 5. 6.]\n",
      " [7. 8. 9.]]\n",
      "<NDArray 3x3 @cpu(0)> \n",
      "[[2. 3.]\n",
      " [4. 5.]]\n",
      "<NDArray 2x2 @cpu(0)>\n",
      "\n",
      "[[0. 1. 2.]\n",
      " [3. 4. 5.]\n",
      " [6. 7. 8.]]\n",
      "<NDArray 3x3 @cpu(0)> \n",
      "[[2. 3.]\n",
      " [4. 5.]]\n",
      "<NDArray 2x2 @cpu(0)>\n",
      "\n",
      "[[1. 2. 3.]\n",
      " [4. 5. 6.]\n",
      " [7. 8. 9.]]\n",
      "<NDArray 3x3 @cpu(0)> \n",
      "[[3. 4.]\n",
      " [5. 6.]]\n",
      "<NDArray 2x2 @cpu(0)>\n"
     ]
    },
    {
     "data": {
      "text/plain": "\n[[[ 56.  72.]\n  [104. 120.]]\n\n [[ 76. 100.]\n  [148. 172.]]\n\n [[ 96. 128.]\n  [192. 224.]]]\n<NDArray 3x2x2 @cpu(0)>"
     },
     "execution_count": 11,
     "metadata": {},
     "output_type": "execute_result"
    }
   ],
   "source": [
    "corr2d_multi_in_out(X, K)"
   ]
  },
  {
   "cell_type": "code",
   "execution_count": 12,
   "metadata": {},
   "outputs": [],
   "source": [
    "def corr2d_multi_in_out_1x1(X, K):\n",
    "    c_i, h, w = X.shape\n",
    "    c_o = K.shape[0]\n",
    "    X = X.reshape((c_i, h*w ))\n",
    "    K  = K.reshape(c_o, c_i)\n",
    "    Y = nd.dot(K,X)\n",
    "    return Y.reshape((c_o, h, w))"
   ]
  },
  {
   "cell_type": "code",
   "execution_count": 13,
   "metadata": {},
   "outputs": [],
   "source": [
    "X = nd.random.uniform(shape = (3,3,3))\n",
    "K = nd.random.uniform(shape = (2,3,1,1))\n"
   ]
  },
  {
   "cell_type": "code",
   "execution_count": 14,
   "metadata": {},
   "outputs": [
    {
     "data": {
      "text/plain": "\n[[[0.5488135  0.5928446  0.71518934]\n  [0.84426576 0.60276335 0.8579456 ]\n  [0.5448832  0.8472517  0.4236548 ]]\n\n [[0.6235637  0.6458941  0.3843817 ]\n  [0.4375872  0.2975346  0.891773  ]\n  [0.05671298 0.96366274 0.2726563 ]]\n\n [[0.3834415  0.47766513 0.79172504]\n  [0.8121687  0.5288949  0.47997716]\n  [0.56804454 0.3927848  0.92559665]]]\n<NDArray 3x3x3 @cpu(0)>"
     },
     "execution_count": 14,
     "metadata": {},
     "output_type": "execute_result"
    }
   ],
   "source": [
    "X"
   ]
  },
  {
   "cell_type": "code",
   "execution_count": 15,
   "metadata": {},
   "outputs": [
    {
     "data": {
      "text/plain": "\n[[[[0.83607876]]\n\n  [[0.07103606]]\n\n  [[0.33739617]]]\n\n\n [[[0.08712929]]\n\n  [[0.6481719 ]]\n\n  [[0.0202184 ]]]]\n<NDArray 2x3x1x1 @cpu(0)>"
     },
     "execution_count": 15,
     "metadata": {},
     "output_type": "execute_result"
    }
   ],
   "source": [
    "K"
   ]
  },
  {
   "cell_type": "code",
   "execution_count": 16,
   "metadata": {},
   "outputs": [
    {
     "name": "stdout",
     "output_type": "stream",
     "text": [
      "\n",
      "[[0.5488135  0.5928446  0.71518934]\n",
      " [0.84426576 0.60276335 0.8579456 ]\n",
      " [0.5448832  0.8472517  0.4236548 ]]\n",
      "<NDArray 3x3 @cpu(0)> \n",
      "[[0.83607876]]\n",
      "<NDArray 1x1 @cpu(0)>\n",
      "\n",
      "[[0.6235637  0.6458941  0.3843817 ]\n",
      " [0.4375872  0.2975346  0.891773  ]\n",
      " [0.05671298 0.96366274 0.2726563 ]]\n",
      "<NDArray 3x3 @cpu(0)> \n",
      "[[0.07103606]]\n",
      "<NDArray 1x1 @cpu(0)>\n",
      "\n",
      "[[0.3834415  0.47766513 0.79172504]\n",
      " [0.8121687  0.5288949  0.47997716]\n",
      " [0.56804454 0.3927848  0.92559665]]\n",
      "<NDArray 3x3 @cpu(0)> \n",
      "[[0.33739617]]\n",
      "<NDArray 1x1 @cpu(0)>\n",
      "\n",
      "[[0.5488135  0.5928446  0.71518934]\n",
      " [0.84426576 0.60276335 0.8579456 ]\n",
      " [0.5448832  0.8472517  0.4236548 ]]\n",
      "<NDArray 3x3 @cpu(0)> \n",
      "[[0.08712929]]\n",
      "<NDArray 1x1 @cpu(0)>\n",
      "\n",
      "[[0.6235637  0.6458941  0.3843817 ]\n",
      " [0.4375872  0.2975346  0.891773  ]\n",
      " [0.05671298 0.96366274 0.2726563 ]]\n",
      "<NDArray 3x3 @cpu(0)> \n",
      "[[0.6481719]]\n",
      "<NDArray 1x1 @cpu(0)>\n",
      "\n",
      "[[0.3834415  0.47766513 0.79172504]\n",
      " [0.8121687  0.5288949  0.47997716]\n",
      " [0.56804454 0.3927848  0.92559665]]\n",
      "<NDArray 3x3 @cpu(0)> \n",
      "[[0.0202184]]\n",
      "<NDArray 1x1 @cpu(0)>\n"
     ]
    }
   ],
   "source": [
    "Y1 = corr2d_multi_in_out_1x1(X, K)\n",
    "Y2 = corr2d_multi_in_out(X, K)"
   ]
  },
  {
   "cell_type": "code",
   "execution_count": null,
   "metadata": {},
   "outputs": [],
   "source": []
  }
 ],
 "metadata": {
  "kernelspec": {
   "display_name": "Python 3.6.12 64-bit ('gluon': conda)",
   "name": "python3612jvsc74a57bd0ff1e23e0936b7ed9773e20af4412028dbcf86e20ac6ff7e144d4776d8198c6df"
  },
  "language_info": {
   "codemirror_mode": {
    "name": "ipython",
    "version": 3
   },
   "file_extension": ".py",
   "mimetype": "text/x-python",
   "name": "python",
   "nbconvert_exporter": "python",
   "pygments_lexer": "ipython3",
   "version": "3.6.12"
  },
  "orig_nbformat": 2
 },
 "nbformat": 4,
 "nbformat_minor": 2
}