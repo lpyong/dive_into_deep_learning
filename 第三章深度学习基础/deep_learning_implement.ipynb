{
 "metadata": {
  "language_info": {
   "codemirror_mode": {
    "name": "ipython",
    "version": 3
   },
   "file_extension": ".py",
   "mimetype": "text/x-python",
   "name": "python",
   "nbconvert_exporter": "python",
   "pygments_lexer": "ipython3",
   "version": "3.6.12-final"
  },
  "orig_nbformat": 2,
  "kernelspec": {
   "name": "python3",
   "display_name": "Python 3.6.12 64-bit ('gluon': conda)",
   "metadata": {
    "interpreter": {
     "hash": "ff1e23e0936b7ed9773e20af4412028dbcf86e20ac6ff7e144d4776d8198c6df"
    }
   }
  }
 },
 "nbformat": 4,
 "nbformat_minor": 2,
 "cells": [
  {
   "cell_type": "code",
   "execution_count": 2,
   "metadata": {},
   "outputs": [],
   "source": [
    "import sys, os\n",
    "sys.path.append(os.pardir)\n",
    "from common.functions import *\n",
    "from common.gradient import numerical_gradient"
   ]
  },
  {
   "cell_type": "code",
   "execution_count": 3,
   "metadata": {},
   "outputs": [],
   "source": [
    "#x 为样本特征矩阵 y为样本类别标签矩阵\n",
    "\n",
    "class TwoLayerNet:\n",
    "    def __init__(self, input_size, hidden_size, output_size,\n",
    "    weight_init_std=0.01):\n",
    "    # 初始化权重\n",
    "        self.params = {}\n",
    "        self.params['W1'] = weight_init_std * \\\n",
    "        np.random.randn(input_size, hidden_size)\n",
    "        self.params['b1'] = np.zeros(hidden_size)\n",
    "        self.params['W2'] = weight_init_std * \\\n",
    "        np.random.randn(hidden_size, output_size)\n",
    "        self.params['b2'] = np.zeros(output_size)\n",
    "    \n",
    "    def predict(self, x):\n",
    "        W1, W2 = self.params['W1'], self.params['W2']\n",
    "        b1, b2 = self.params['b1'], self.params['b2']\n",
    "        a1 = np.dot(x, W1) + b1\n",
    "        z1 = sigmoid(a1)\n",
    "        a2 = np.dot(z1, W2) + b2\n",
    "        y = softmax(a2)\n",
    "        return y\n",
    "    # x:输入数据, t:监督数据\n",
    "    def loss(self, x, t):\n",
    "        y = self.predict(x)\n",
    "        return cross_entropy_error(y, t)\n",
    "    def accuracy(self, x, t):\n",
    "        y = self.predict(x)\n",
    "        y = np.argmax(y, axis=1)\n",
    "        t = np.argmax(t, axis=1)\n",
    "        accuracy = np.sum(y == t) / float(x.shape[0])\n",
    "        return accuracy\n",
    "    # x:输入数据, t:监督数据\n",
    "    def numerical_gradient(self, x, t):\n",
    "        loss_W = lambda W: self.loss(x, t)\n",
    "        grads = {}\n",
    "        grads['W1'] = numerical_gradient(loss_W, self.params['W1'])\n",
    "        grads['b1'] = numerical_gradient(loss_W, self.params['b1'])\n",
    "        grads['W2'] = numerical_gradient(loss_W, self.params['W2'])\n",
    "        grads['b2'] = numerical_gradient(loss_W, self.params['b2'])\n",
    "        return grads"
   ]
  },
  {
   "cell_type": "code",
   "execution_count": 4,
   "metadata": {},
   "outputs": [
    {
     "output_type": "execute_result",
     "data": {
      "text/plain": [
       "(10,)"
      ]
     },
     "metadata": {},
     "execution_count": 4
    }
   ],
   "source": [
    "net = TwoLayerNet(input_size = 784, hidden_size = 100, output_size = 10)\n",
    "net.params['W1'].shape\n",
    "net.params['b1'].shape\n",
    "net.params['W2'].shape\n",
    "net.params['b2'].shape"
   ]
  },
  {
   "cell_type": "code",
   "execution_count": 5,
   "metadata": {},
   "outputs": [],
   "source": [
    "x = np.random.rand(100, 784) # 伪输入数据（100笔）\n",
    "y = net.predict(x)\n",
    "t = np.random.rand(100, 10) # 伪正确解标签（100笔）\n",
    "grads = net.numerical_gradient(x, t) # 计算梯度"
   ]
  },
  {
   "cell_type": "code",
   "execution_count": 6,
   "metadata": {},
   "outputs": [
    {
     "output_type": "execute_result",
     "data": {
      "text/plain": [
       "(10,)"
      ]
     },
     "metadata": {},
     "execution_count": 6
    }
   ],
   "source": [
    "grads['W1'].shape # (784, 100)\n",
    "grads['b1'].shape # (100,)\n",
    "grads['W2'].shape # (100, 10)\n",
    "grads['b2'].shape # (10,)"
   ]
  },
  {
   "cell_type": "code",
   "execution_count": 8,
   "metadata": {},
   "outputs": [
    {
     "output_type": "execute_result",
     "data": {
      "text/plain": [
       "array([[ 1.58305375e-04,  3.86466303e-05,  4.12056567e-05, ...,\n",
       "        -2.80536803e-04,  8.94037044e-05,  9.05553255e-05],\n",
       "       [ 2.58151323e-04, -9.67811098e-05, -1.50414967e-04, ...,\n",
       "        -2.02528254e-04,  1.32834841e-04,  5.87404880e-05],\n",
       "       [ 2.72703398e-04, -5.97152461e-05, -7.77829134e-05, ...,\n",
       "        -4.44711186e-04,  2.20985110e-04,  2.00534871e-04],\n",
       "       ...,\n",
       "       [ 6.81662415e-05, -1.27387498e-04, -2.01109684e-05, ...,\n",
       "        -2.18785121e-04,  1.72180064e-04,  1.93957084e-04],\n",
       "       [ 1.62783893e-04, -1.13783314e-04, -4.94850205e-05, ...,\n",
       "        -3.08938481e-04,  1.64337599e-04,  2.64164328e-04],\n",
       "       [ 2.49475480e-04, -1.36337759e-04,  1.19283570e-04, ...,\n",
       "        -2.34421447e-04,  1.67877137e-04,  1.07744986e-04]])"
      ]
     },
     "metadata": {},
     "execution_count": 8
    }
   ],
   "source": [
    "grads['W1']"
   ]
  },
  {
   "cell_type": "code",
   "execution_count": null,
   "metadata": {},
   "outputs": [],
   "source": []
  }
 ]
}