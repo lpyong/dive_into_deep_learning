{
 "metadata": {
  "language_info": {
   "codemirror_mode": {
    "name": "ipython",
    "version": 3
   },
   "file_extension": ".py",
   "mimetype": "text/x-python",
   "name": "python",
   "nbconvert_exporter": "python",
   "pygments_lexer": "ipython3",
   "version": "3.6.12-final"
  },
  "orig_nbformat": 2,
  "kernelspec": {
   "name": "python3",
   "display_name": "Python 3",
   "language": "python"
  }
 },
 "nbformat": 4,
 "nbformat_minor": 2,
 "cells": [
  {
   "cell_type": "code",
   "execution_count": 8,
   "metadata": {},
   "outputs": [],
   "source": [
    "%matplotlib inline\n",
    "import d2lzh as d2l\n",
    "from mxnet.gluon import loss as  gloss\n",
    "from mxnet import nd"
   ]
  },
  {
   "source": [
    "3.9.1读取数据"
   ],
   "cell_type": "markdown",
   "metadata": {}
  },
  {
   "cell_type": "code",
   "execution_count": 5,
   "metadata": {},
   "outputs": [],
   "source": [
    "batch_size = 256\n",
    "train_iter, test_iter = d2l.load_data_fashion_mnist(batch_size)"
   ]
  },
  {
   "source": [
    "3.9.2 定义模型参数"
   ],
   "cell_type": "markdown",
   "metadata": {}
  },
  {
   "cell_type": "code",
   "execution_count": 10,
   "metadata": {},
   "outputs": [],
   "source": [
    "num_inputs, num_outputs, num_hidden = 784, 10,256\n",
    "\n",
    "W1 = nd.random.normal(scale = 0.01,shape = (num_inputs,num_hidden))\n",
    "b1 = nd.zeros(num_hidden)\n",
    "W2 = nd.random.normal(scale = 0.01,shape = (num_hidden, num_outputs))\n",
    "b2 = nd.zeros(num_outputs)\n",
    "params = [W1, b1,W2, b2]\n",
    "\n",
    "for param in params :\n",
    "    param.attach_grad()"
   ]
  },
  {
   "source": [
    "3.9.3 定义激活函数"
   ],
   "cell_type": "markdown",
   "metadata": {}
  },
  {
   "cell_type": "code",
   "execution_count": 12,
   "metadata": {},
   "outputs": [],
   "source": [
    "def relu(x):\n",
    "    return nd.maximum(x,0)"
   ]
  },
  {
   "source": [
    "3.9.4定义模型"
   ],
   "cell_type": "markdown",
   "metadata": {}
  },
  {
   "cell_type": "code",
   "execution_count": 14,
   "metadata": {},
   "outputs": [],
   "source": [
    "def net(X):\n",
    "    X = X.reshape((-1, num_inputs))\n",
    "    H = relu(nd.dot(X,W1) + b1)\n",
    "    return nd.dot(H, W2) + b2"
   ]
  },
  {
   "cell_type": "code",
   "execution_count": 16,
   "metadata": {},
   "outputs": [],
   "source": [
    "#3.9.5 定义损失函数\n",
    "loss = gloss.SoftmaxCrossEntropyLoss()"
   ]
  },
  {
   "source": [
    "3.9.6 训练模型"
   ],
   "cell_type": "markdown",
   "metadata": {}
  },
  {
   "cell_type": "code",
   "execution_count": 17,
   "metadata": {},
   "outputs": [
    {
     "output_type": "stream",
     "name": "stdout",
     "text": [
      "epoch 1, loss 0.8409, train acc 0.688, test acc 0.819\n",
      "epoch 2, loss 0.5005, train acc 0.814, test acc 0.850\n",
      "epoch 3, loss 0.4358, train acc 0.839, test acc 0.845\n",
      "epoch 4, loss 0.3979, train acc 0.853, test acc 0.869\n",
      "epoch 5, loss 0.3801, train acc 0.860, test acc 0.870\n"
     ]
    }
   ],
   "source": [
    "num_epochs, lr = 5, 0.5  #lr为迭代的\n",
    "d2l.train_ch3(net, train_iter, test_iter, loss, num_epochs, batch_size, params, lr)"
   ]
  },
  {
   "cell_type": "code",
   "execution_count": null,
   "metadata": {},
   "outputs": [],
   "source": []
  }
 ]
}